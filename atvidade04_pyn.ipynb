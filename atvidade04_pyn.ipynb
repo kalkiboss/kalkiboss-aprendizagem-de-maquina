{
  "nbformat": 4,
  "nbformat_minor": 0,
  "metadata": {
    "colab": {
      "provenance": [],
      "include_colab_link": true
    },
    "kernelspec": {
      "name": "python3",
      "display_name": "Python 3"
    },
    "language_info": {
      "name": "python"
    }
  },
  "cells": [
    {
      "cell_type": "markdown",
      "metadata": {
        "id": "view-in-github",
        "colab_type": "text"
      },
      "source": [
        "<a href=\"https://colab.research.google.com/github/kalkiboss/kalkiboss-aprendizagem-de-maquina/blob/develop/atvidade04_pyn.ipynb\" target=\"_parent\"><img src=\"https://colab.research.google.com/assets/colab-badge.svg\" alt=\"Open In Colab\"/></a>"
      ]
    },
    {
      "cell_type": "code",
      "source": [
        "import random\n",
        "import pandas as pd\n",
        "\n",
        "#crie a lista de frutas\n",
        "frutas = [\"maçã\", \"banana\", \"laranja\", \"uva\", \"maçã\", \"melão\", \"mamão\", \"banana\"]\n",
        "\n",
        "# uma váriavel para converter um set para remover duplicatas e depois de volta para lista\n",
        "frutas_unicas = list(set(frutas))\n",
        "\n",
        "#Gravando as frutas no arquivo com quantidades aleatórias\n",
        "with open('minhas_frutas.txt', 'w') as arquivo:\n",
        "    for fruta in frutas:\n",
        "        quantidade = random.randint(0, 100)\n",
        "        arquivo.write(f\"{fruta},{quantidade}\\n\")\n",
        "\n",
        "print(\"Arquivo 'minhas_frutas.txt' criado com sucesso!\")\n",
        "\n",
        "# lendo o arquivo e somando as quantidades das frutas repetidas\n",
        "frutas_quantidades = {}\n",
        "\n",
        "with open('minhas_frutas.txt', 'r') as arquivo:\n",
        "    for linha in arquivo:\n",
        "        fruta, quantidade = linha.strip().split(',')\n",
        "        quantidade = int(quantidade)\n",
        "\n",
        "        if fruta in frutas_quantidades:\n",
        "            frutas_quantidades[fruta] += quantidade\n",
        "        else:\n",
        "            frutas_quantidades[fruta] = quantidade\n",
        "\n",
        "# Passo 4: Exibindo o conteúdo no console através de um DataFrame\n",
        "df = pd.DataFrame(list(frutas_quantidades.items()), columns=['Fruta', 'Quantidade'])\n",
        "print(df)\n"
      ],
      "metadata": {
        "colab": {
          "base_uri": "https://localhost:8080/"
        },
        "id": "TbWSbiwh6s48",
        "outputId": "d388d1b6-5000-45de-8d85-a891719de744"
      },
      "execution_count": null,
      "outputs": [
        {
          "output_type": "stream",
          "name": "stdout",
          "text": [
            "Arquivo 'minhas_frutas.txt' criado com sucesso!\n",
            "     Fruta  Quantidade\n",
            "0     maçã         123\n",
            "1   banana         155\n",
            "2  laranja          31\n",
            "3      uva          37\n",
            "4    melão          34\n",
            "5    mamão          13\n"
          ]
        }
      ]
    }
  ]
}
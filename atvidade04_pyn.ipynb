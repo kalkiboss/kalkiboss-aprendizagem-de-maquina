{
  "nbformat": 4,
  "nbformat_minor": 0,
  "metadata": {
    "colab": {
      "provenance": [],
      "authorship_tag": "ABX9TyP3HPPJN/GwFaSgTeuAWY4c",
      "include_colab_link": true
    },
    "kernelspec": {
      "name": "python3",
      "display_name": "Python 3"
    },
    "language_info": {
      "name": "python"
    }
  },
  "cells": [
    {
      "cell_type": "markdown",
      "metadata": {
        "id": "view-in-github",
        "colab_type": "text"
      },
      "source": [
        "<a href=\"https://colab.research.google.com/github/kalkiboss/kalkiboss-aprendizagem-de-maquina/blob/develop/atvidade04_pyn.ipynb\" target=\"_parent\"><img src=\"https://colab.research.google.com/assets/colab-badge.svg\" alt=\"Open In Colab\"/></a>"
      ]
    },
    {
      "cell_type": "code",
      "source": [
        "import random\n",
        "import pandas as pd\n",
        "\n",
        "#crie a lista de frutas\n",
        "frutas = [\"maçã\", \"banana\", \"laranja\", \"uva\", \"maçã\", \"melão\", \"mamão\", \"banana\"]\n",
        "\n",
        "# uma váriavel para converter um set para remover duplicatas e depois de volta para lista\n",
        "frutas_unicas = list(set(frutas))\n",
        "\n",
        "#Gravando as frutas no arquivo com quantidades aleatórias\n",
        "with open('minhas_frutas.txt', 'w') as arquivo:\n",
        "    for fruta in frutas:\n",
        "        quantidade = random.randint(0, 100)\n",
        "        arquivo.write(f\"{fruta},{quantidade}\\n\")\n",
        "\n",
        "print(\"Arquivo 'minhas_frutas.txt' criado com sucesso!\")\n",
        "\n",
        "# lendo o arquivo e somando as quantidades das frutas repetidas\n",
        "frutas_quantidades = {}\n",
        "\n",
        "with open('minhas_frutas.txt', 'r') as arquivo:\n",
        "    for linha in arquivo:\n",
        "        fruta, quantidade = linha.strip().split(',')\n",
        "        quantidade = int(quantidade)\n",
        "\n",
        "        if fruta in frutas_quantidades:\n",
        "            frutas_quantidades[fruta] += quantidade\n",
        "        else:\n",
        "            frutas_quantidades[fruta] = quantidade\n",
        "\n",
        "# Passo 4: Exibindo o conteúdo no console através de um DataFrame\n",
        "df = pd.DataFrame(list(frutas_quantidades.items()), columns=['Fruta', 'Quantidade'])\n",
        "print(df)\n"
      ],
      "metadata": {
        "colab": {
          "base_uri": "https://localhost:8080/"
        },
        "id": "TbWSbiwh6s48",
        "outputId": "d388d1b6-5000-45de-8d85-a891719de744"
      },
      "execution_count": 9,
      "outputs": [
        {
          "output_type": "stream",
          "name": "stdout",
          "text": [
            "Arquivo 'minhas_frutas.txt' criado com sucesso!\n",
            "     Fruta  Quantidade\n",
            "0     maçã         123\n",
            "1   banana         155\n",
            "2  laranja          31\n",
            "3      uva          37\n",
            "4    melão          34\n",
            "5    mamão          13\n"
          ]
        }
      ]
    },
    {
      "cell_type": "code",
      "source": [
        "!apt-get install git -y\n"
      ],
      "metadata": {
        "colab": {
          "base_uri": "https://localhost:8080/"
        },
        "id": "L2EiqdH2BHxY",
        "outputId": "2f3e573d-0b12-48fd-adc2-9ffe417672b4"
      },
      "execution_count": 27,
      "outputs": [
        {
          "output_type": "stream",
          "name": "stdout",
          "text": [
            "Reading package lists... Done\n",
            "Building dependency tree... Done\n",
            "Reading state information... Done\n",
            "git is already the newest version (1:2.34.1-1ubuntu1.12).\n",
            "0 upgraded, 0 newly installed, 0 to remove and 29 not upgraded.\n"
          ]
        }
      ]
    },
    {
      "cell_type": "code",
      "source": [
        "!git config --global user.name \"kalkiboss\"\n",
        "!git config --global user.email \"vieirakaya@gmail.com\""
      ],
      "metadata": {
        "id": "CDNFe46-BQgD"
      },
      "execution_count": 28,
      "outputs": []
    },
    {
      "cell_type": "code",
      "source": [
        "!git clone https://github.com/kalkiboss/kalkiboss-aprendizagem-de-maquina\n",
        "\n",
        "%cd aprendizagem-de-maquina"
      ],
      "metadata": {
        "colab": {
          "base_uri": "https://localhost:8080/"
        },
        "id": "XvYWrqvnBiNb",
        "outputId": "1cf3c7a0-ffa1-40ab-8945-66e9ca82025a"
      },
      "execution_count": 48,
      "outputs": [
        {
          "output_type": "stream",
          "name": "stdout",
          "text": [
            "Cloning into 'kalkiboss-aprendizagem-de-maquina'...\n",
            "remote: Enumerating objects: 3, done.\u001b[K\n",
            "remote: Counting objects: 100% (3/3), done.\u001b[K\n",
            "remote: Total 3 (delta 0), reused 0 (delta 0), pack-reused 0 (from 0)\u001b[K\n",
            "Receiving objects: 100% (3/3), done.\n",
            "[Errno 2] No such file or directory: 'aprendizagem-de-maquina'\n",
            "/content/kalkiboss-aprendizagem-de-maquina\n"
          ]
        }
      ]
    },
    {
      "cell_type": "code",
      "source": [
        "\n",
        "import random\n",
        "import pandas as pd\n",
        "\n",
        "# Crie a lista de frutas\n",
        "frutas = [\"maçã\", \"banana\", \"laranja\", \"uva\", \"maçã\", \"melão\", \"mamão\", \"banana\"]\n",
        "\n",
        "# Converta para um set para remover duplicatas e depois de volta para lista\n",
        "frutas_unicas = list(set(frutas))\n",
        "\n",
        "# Gravando as frutas no arquivo com quantidades aleatórias\n",
        "with open('minhas_frutas.txt', 'w') as arquivo:\n",
        "    for fruta in frutas:\n",
        "        quantidade = random.randint(0, 100)\n",
        "        arquivo.write(f\"{fruta},{quantidade}\\n\")\n",
        "\n",
        "print(\"Arquivo 'minhas_frutas.txt' criado com sucesso!\")\n",
        "\n",
        "# Lendo o arquivo e somando as quantidades das frutas repetidas\n",
        "frutas_quantidades = {}\n",
        "\n",
        "with open('minhas_frutas.txt', 'r') as arquivo:\n",
        "    for linha in arquivo:\n",
        "        fruta, quantidade = linha.strip().split(',')\n",
        "        quantidade = int(quantidade)\n",
        "\n",
        "        if fruta in frutas_quantidades:\n",
        "            frutas_quantidades[fruta] += quantidade\n",
        "        else:\n",
        "            frutas_quantidades[fruta] = quantidade\n",
        "\n",
        "# Exibindo o conteúdo no console através de um DataFrame\n",
        "df = pd.DataFrame(list(frutas_quantidades.items()), columns=['Fruta', 'Quantidade'])\n",
        "print(df)"
      ],
      "metadata": {
        "colab": {
          "base_uri": "https://localhost:8080/"
        },
        "id": "UfhzdfxACJ3i",
        "outputId": "d67df27e-b0c1-4c09-afd8-e91b8f9362a1"
      },
      "execution_count": 60,
      "outputs": [
        {
          "output_type": "stream",
          "name": "stdout",
          "text": [
            "Arquivo 'minhas_frutas.txt' criado com sucesso!\n",
            "     Fruta  Quantidade\n",
            "0     maçã          68\n",
            "1   banana          83\n",
            "2  laranja          57\n",
            "3      uva          15\n",
            "4    melão          36\n",
            "5    mamão          13\n"
          ]
        }
      ]
    }
  ]
}